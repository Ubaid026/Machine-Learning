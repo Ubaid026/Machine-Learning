{
 "cells": [
  {
   "cell_type": "code",
   "execution_count": 1,
   "id": "e32c9c73",
   "metadata": {},
   "outputs": [],
   "source": [
    "import pandas as pd\n",
    "import numpy as np\n",
    "import matplotlib.pyplot as plt\n",
    "import seaborn as sns"
   ]
  },
  {
   "cell_type": "code",
   "execution_count": 63,
   "id": "950d5523",
   "metadata": {},
   "outputs": [
    {
     "data": {
      "text/html": [
       "<div>\n",
       "<style scoped>\n",
       "    .dataframe tbody tr th:only-of-type {\n",
       "        vertical-align: middle;\n",
       "    }\n",
       "\n",
       "    .dataframe tbody tr th {\n",
       "        vertical-align: top;\n",
       "    }\n",
       "\n",
       "    .dataframe thead th {\n",
       "        text-align: right;\n",
       "    }\n",
       "</style>\n",
       "<table border=\"1\" class=\"dataframe\">\n",
       "  <thead>\n",
       "    <tr style=\"text-align: right;\">\n",
       "      <th></th>\n",
       "      <th>Serial No.</th>\n",
       "      <th>GRE Score</th>\n",
       "      <th>TOEFL Score</th>\n",
       "      <th>University Rating</th>\n",
       "      <th>SOP</th>\n",
       "      <th>LOR</th>\n",
       "      <th>CGPA</th>\n",
       "      <th>Research</th>\n",
       "      <th>Chance of Admit</th>\n",
       "    </tr>\n",
       "  </thead>\n",
       "  <tbody>\n",
       "    <tr>\n",
       "      <th>0</th>\n",
       "      <td>1</td>\n",
       "      <td>337.0</td>\n",
       "      <td>118.0</td>\n",
       "      <td>4.0</td>\n",
       "      <td>4.5</td>\n",
       "      <td>4.5</td>\n",
       "      <td>9.65</td>\n",
       "      <td>1</td>\n",
       "      <td>0.92</td>\n",
       "    </tr>\n",
       "    <tr>\n",
       "      <th>1</th>\n",
       "      <td>2</td>\n",
       "      <td>324.0</td>\n",
       "      <td>107.0</td>\n",
       "      <td>4.0</td>\n",
       "      <td>4.0</td>\n",
       "      <td>4.5</td>\n",
       "      <td>8.87</td>\n",
       "      <td>1</td>\n",
       "      <td>0.76</td>\n",
       "    </tr>\n",
       "    <tr>\n",
       "      <th>2</th>\n",
       "      <td>3</td>\n",
       "      <td>NaN</td>\n",
       "      <td>104.0</td>\n",
       "      <td>3.0</td>\n",
       "      <td>3.0</td>\n",
       "      <td>3.5</td>\n",
       "      <td>8.00</td>\n",
       "      <td>1</td>\n",
       "      <td>0.72</td>\n",
       "    </tr>\n",
       "    <tr>\n",
       "      <th>3</th>\n",
       "      <td>4</td>\n",
       "      <td>322.0</td>\n",
       "      <td>110.0</td>\n",
       "      <td>3.0</td>\n",
       "      <td>3.5</td>\n",
       "      <td>2.5</td>\n",
       "      <td>8.67</td>\n",
       "      <td>1</td>\n",
       "      <td>0.80</td>\n",
       "    </tr>\n",
       "    <tr>\n",
       "      <th>4</th>\n",
       "      <td>5</td>\n",
       "      <td>314.0</td>\n",
       "      <td>103.0</td>\n",
       "      <td>2.0</td>\n",
       "      <td>2.0</td>\n",
       "      <td>3.0</td>\n",
       "      <td>8.21</td>\n",
       "      <td>0</td>\n",
       "      <td>0.65</td>\n",
       "    </tr>\n",
       "    <tr>\n",
       "      <th>...</th>\n",
       "      <td>...</td>\n",
       "      <td>...</td>\n",
       "      <td>...</td>\n",
       "      <td>...</td>\n",
       "      <td>...</td>\n",
       "      <td>...</td>\n",
       "      <td>...</td>\n",
       "      <td>...</td>\n",
       "      <td>...</td>\n",
       "    </tr>\n",
       "    <tr>\n",
       "      <th>495</th>\n",
       "      <td>496</td>\n",
       "      <td>332.0</td>\n",
       "      <td>108.0</td>\n",
       "      <td>5.0</td>\n",
       "      <td>4.5</td>\n",
       "      <td>4.0</td>\n",
       "      <td>9.02</td>\n",
       "      <td>1</td>\n",
       "      <td>0.87</td>\n",
       "    </tr>\n",
       "    <tr>\n",
       "      <th>496</th>\n",
       "      <td>497</td>\n",
       "      <td>337.0</td>\n",
       "      <td>117.0</td>\n",
       "      <td>5.0</td>\n",
       "      <td>5.0</td>\n",
       "      <td>5.0</td>\n",
       "      <td>9.87</td>\n",
       "      <td>1</td>\n",
       "      <td>0.96</td>\n",
       "    </tr>\n",
       "    <tr>\n",
       "      <th>497</th>\n",
       "      <td>498</td>\n",
       "      <td>330.0</td>\n",
       "      <td>120.0</td>\n",
       "      <td>5.0</td>\n",
       "      <td>4.5</td>\n",
       "      <td>5.0</td>\n",
       "      <td>9.56</td>\n",
       "      <td>1</td>\n",
       "      <td>0.93</td>\n",
       "    </tr>\n",
       "    <tr>\n",
       "      <th>498</th>\n",
       "      <td>499</td>\n",
       "      <td>312.0</td>\n",
       "      <td>103.0</td>\n",
       "      <td>4.0</td>\n",
       "      <td>4.0</td>\n",
       "      <td>5.0</td>\n",
       "      <td>8.43</td>\n",
       "      <td>0</td>\n",
       "      <td>0.73</td>\n",
       "    </tr>\n",
       "    <tr>\n",
       "      <th>499</th>\n",
       "      <td>500</td>\n",
       "      <td>327.0</td>\n",
       "      <td>113.0</td>\n",
       "      <td>4.0</td>\n",
       "      <td>4.5</td>\n",
       "      <td>4.5</td>\n",
       "      <td>9.04</td>\n",
       "      <td>0</td>\n",
       "      <td>0.84</td>\n",
       "    </tr>\n",
       "  </tbody>\n",
       "</table>\n",
       "<p>500 rows × 9 columns</p>\n",
       "</div>"
      ],
      "text/plain": [
       "     Serial No.  GRE Score  TOEFL Score  University Rating  SOP  LOR  CGPA  \\\n",
       "0             1      337.0        118.0                4.0  4.5  4.5  9.65   \n",
       "1             2      324.0        107.0                4.0  4.0  4.5  8.87   \n",
       "2             3        NaN        104.0                3.0  3.0  3.5  8.00   \n",
       "3             4      322.0        110.0                3.0  3.5  2.5  8.67   \n",
       "4             5      314.0        103.0                2.0  2.0  3.0  8.21   \n",
       "..          ...        ...          ...                ...  ...  ...   ...   \n",
       "495         496      332.0        108.0                5.0  4.5  4.0  9.02   \n",
       "496         497      337.0        117.0                5.0  5.0  5.0  9.87   \n",
       "497         498      330.0        120.0                5.0  4.5  5.0  9.56   \n",
       "498         499      312.0        103.0                4.0  4.0  5.0  8.43   \n",
       "499         500      327.0        113.0                4.0  4.5  4.5  9.04   \n",
       "\n",
       "     Research  Chance of Admit  \n",
       "0           1             0.92  \n",
       "1           1             0.76  \n",
       "2           1             0.72  \n",
       "3           1             0.80  \n",
       "4           0             0.65  \n",
       "..        ...              ...  \n",
       "495         1             0.87  \n",
       "496         1             0.96  \n",
       "497         1             0.93  \n",
       "498         0             0.73  \n",
       "499         0             0.84  \n",
       "\n",
       "[500 rows x 9 columns]"
      ]
     },
     "execution_count": 63,
     "metadata": {},
     "output_type": "execute_result"
    }
   ],
   "source": [
    "df=pd.read_csv(\"Admission_Prediction.csv\")\n",
    "df"
   ]
  },
  {
   "cell_type": "code",
   "execution_count": 3,
   "id": "e5ba88d8",
   "metadata": {},
   "outputs": [
    {
     "data": {
      "text/plain": [
       "(500, 9)"
      ]
     },
     "execution_count": 3,
     "metadata": {},
     "output_type": "execute_result"
    }
   ],
   "source": [
    "df.shape"
   ]
  },
  {
   "cell_type": "code",
   "execution_count": 4,
   "id": "3893ed24",
   "metadata": {},
   "outputs": [
    {
     "name": "stdout",
     "output_type": "stream",
     "text": [
      "<class 'pandas.core.frame.DataFrame'>\n",
      "RangeIndex: 500 entries, 0 to 499\n",
      "Data columns (total 9 columns):\n",
      " #   Column             Non-Null Count  Dtype  \n",
      "---  ------             --------------  -----  \n",
      " 0   Serial No.         500 non-null    int64  \n",
      " 1   GRE Score          485 non-null    float64\n",
      " 2   TOEFL Score        490 non-null    float64\n",
      " 3   University Rating  485 non-null    float64\n",
      " 4   SOP                500 non-null    float64\n",
      " 5   LOR                500 non-null    float64\n",
      " 6   CGPA               500 non-null    float64\n",
      " 7   Research           500 non-null    int64  \n",
      " 8   Chance of Admit    500 non-null    float64\n",
      "dtypes: float64(7), int64(2)\n",
      "memory usage: 35.3 KB\n"
     ]
    }
   ],
   "source": [
    "df.info()"
   ]
  },
  {
   "cell_type": "code",
   "execution_count": 5,
   "id": "fbad7726",
   "metadata": {},
   "outputs": [
    {
     "data": {
      "text/plain": [
       "Serial No.            0\n",
       "GRE Score            15\n",
       "TOEFL Score          10\n",
       "University Rating    15\n",
       "SOP                   0\n",
       "LOR                   0\n",
       "CGPA                  0\n",
       "Research              0\n",
       "Chance of Admit       0\n",
       "dtype: int64"
      ]
     },
     "execution_count": 5,
     "metadata": {},
     "output_type": "execute_result"
    }
   ],
   "source": [
    "df.isna().sum()"
   ]
  },
  {
   "cell_type": "code",
   "execution_count": 6,
   "id": "2f839335",
   "metadata": {},
   "outputs": [],
   "source": [
    "df.drop(columns=\"Serial No.\",inplace=True)"
   ]
  },
  {
   "cell_type": "code",
   "execution_count": 7,
   "id": "0b3276cf",
   "metadata": {},
   "outputs": [],
   "source": [
    "for i in df.columns:\n",
    "    if df[i].isna().sum()>0:\n",
    "        df[i].fillna(df[i].median(),inplace=True)"
   ]
  },
  {
   "cell_type": "code",
   "execution_count": 8,
   "id": "f6c40a24",
   "metadata": {},
   "outputs": [
    {
     "data": {
      "text/html": [
       "<div>\n",
       "<style scoped>\n",
       "    .dataframe tbody tr th:only-of-type {\n",
       "        vertical-align: middle;\n",
       "    }\n",
       "\n",
       "    .dataframe tbody tr th {\n",
       "        vertical-align: top;\n",
       "    }\n",
       "\n",
       "    .dataframe thead th {\n",
       "        text-align: right;\n",
       "    }\n",
       "</style>\n",
       "<table border=\"1\" class=\"dataframe\">\n",
       "  <thead>\n",
       "    <tr style=\"text-align: right;\">\n",
       "      <th></th>\n",
       "      <th>GRE Score</th>\n",
       "      <th>TOEFL Score</th>\n",
       "      <th>University Rating</th>\n",
       "      <th>SOP</th>\n",
       "      <th>LOR</th>\n",
       "      <th>CGPA</th>\n",
       "      <th>Research</th>\n",
       "      <th>Chance of Admit</th>\n",
       "    </tr>\n",
       "  </thead>\n",
       "  <tbody>\n",
       "    <tr>\n",
       "      <th>count</th>\n",
       "      <td>500.000000</td>\n",
       "      <td>500.000000</td>\n",
       "      <td>500.000000</td>\n",
       "      <td>500.000000</td>\n",
       "      <td>500.00000</td>\n",
       "      <td>500.000000</td>\n",
       "      <td>500.000000</td>\n",
       "      <td>500.00000</td>\n",
       "    </tr>\n",
       "    <tr>\n",
       "      <th>mean</th>\n",
       "      <td>316.572000</td>\n",
       "      <td>107.184000</td>\n",
       "      <td>3.118000</td>\n",
       "      <td>3.374000</td>\n",
       "      <td>3.48400</td>\n",
       "      <td>8.576440</td>\n",
       "      <td>0.560000</td>\n",
       "      <td>0.72174</td>\n",
       "    </tr>\n",
       "    <tr>\n",
       "      <th>std</th>\n",
       "      <td>11.104207</td>\n",
       "      <td>6.051395</td>\n",
       "      <td>1.128993</td>\n",
       "      <td>0.991004</td>\n",
       "      <td>0.92545</td>\n",
       "      <td>0.604813</td>\n",
       "      <td>0.496884</td>\n",
       "      <td>0.14114</td>\n",
       "    </tr>\n",
       "    <tr>\n",
       "      <th>min</th>\n",
       "      <td>290.000000</td>\n",
       "      <td>92.000000</td>\n",
       "      <td>1.000000</td>\n",
       "      <td>1.000000</td>\n",
       "      <td>1.00000</td>\n",
       "      <td>6.800000</td>\n",
       "      <td>0.000000</td>\n",
       "      <td>0.34000</td>\n",
       "    </tr>\n",
       "    <tr>\n",
       "      <th>25%</th>\n",
       "      <td>309.000000</td>\n",
       "      <td>103.000000</td>\n",
       "      <td>2.000000</td>\n",
       "      <td>2.500000</td>\n",
       "      <td>3.00000</td>\n",
       "      <td>8.127500</td>\n",
       "      <td>0.000000</td>\n",
       "      <td>0.63000</td>\n",
       "    </tr>\n",
       "    <tr>\n",
       "      <th>50%</th>\n",
       "      <td>317.000000</td>\n",
       "      <td>107.000000</td>\n",
       "      <td>3.000000</td>\n",
       "      <td>3.500000</td>\n",
       "      <td>3.50000</td>\n",
       "      <td>8.560000</td>\n",
       "      <td>1.000000</td>\n",
       "      <td>0.72000</td>\n",
       "    </tr>\n",
       "    <tr>\n",
       "      <th>75%</th>\n",
       "      <td>324.000000</td>\n",
       "      <td>112.000000</td>\n",
       "      <td>4.000000</td>\n",
       "      <td>4.000000</td>\n",
       "      <td>4.00000</td>\n",
       "      <td>9.040000</td>\n",
       "      <td>1.000000</td>\n",
       "      <td>0.82000</td>\n",
       "    </tr>\n",
       "    <tr>\n",
       "      <th>max</th>\n",
       "      <td>340.000000</td>\n",
       "      <td>120.000000</td>\n",
       "      <td>5.000000</td>\n",
       "      <td>5.000000</td>\n",
       "      <td>5.00000</td>\n",
       "      <td>9.920000</td>\n",
       "      <td>1.000000</td>\n",
       "      <td>0.97000</td>\n",
       "    </tr>\n",
       "  </tbody>\n",
       "</table>\n",
       "</div>"
      ],
      "text/plain": [
       "        GRE Score  TOEFL Score  University Rating         SOP        LOR  \\\n",
       "count  500.000000   500.000000         500.000000  500.000000  500.00000   \n",
       "mean   316.572000   107.184000           3.118000    3.374000    3.48400   \n",
       "std     11.104207     6.051395           1.128993    0.991004    0.92545   \n",
       "min    290.000000    92.000000           1.000000    1.000000    1.00000   \n",
       "25%    309.000000   103.000000           2.000000    2.500000    3.00000   \n",
       "50%    317.000000   107.000000           3.000000    3.500000    3.50000   \n",
       "75%    324.000000   112.000000           4.000000    4.000000    4.00000   \n",
       "max    340.000000   120.000000           5.000000    5.000000    5.00000   \n",
       "\n",
       "             CGPA    Research  Chance of Admit  \n",
       "count  500.000000  500.000000        500.00000  \n",
       "mean     8.576440    0.560000          0.72174  \n",
       "std      0.604813    0.496884          0.14114  \n",
       "min      6.800000    0.000000          0.34000  \n",
       "25%      8.127500    0.000000          0.63000  \n",
       "50%      8.560000    1.000000          0.72000  \n",
       "75%      9.040000    1.000000          0.82000  \n",
       "max      9.920000    1.000000          0.97000  "
      ]
     },
     "execution_count": 8,
     "metadata": {},
     "output_type": "execute_result"
    }
   ],
   "source": [
    "df.describe()"
   ]
  },
  {
   "cell_type": "code",
   "execution_count": 9,
   "id": "d00e12ac",
   "metadata": {},
   "outputs": [
    {
     "data": {
      "text/html": [
       "<div>\n",
       "<style scoped>\n",
       "    .dataframe tbody tr th:only-of-type {\n",
       "        vertical-align: middle;\n",
       "    }\n",
       "\n",
       "    .dataframe tbody tr th {\n",
       "        vertical-align: top;\n",
       "    }\n",
       "\n",
       "    .dataframe thead th {\n",
       "        text-align: right;\n",
       "    }\n",
       "</style>\n",
       "<table border=\"1\" class=\"dataframe\">\n",
       "  <thead>\n",
       "    <tr style=\"text-align: right;\">\n",
       "      <th></th>\n",
       "      <th>GRE Score</th>\n",
       "      <th>TOEFL Score</th>\n",
       "      <th>University Rating</th>\n",
       "      <th>SOP</th>\n",
       "      <th>LOR</th>\n",
       "      <th>CGPA</th>\n",
       "      <th>Research</th>\n",
       "      <th>Chance of Admit</th>\n",
       "    </tr>\n",
       "  </thead>\n",
       "  <tbody>\n",
       "    <tr>\n",
       "      <th>GRE Score</th>\n",
       "      <td>1.000000</td>\n",
       "      <td>0.819885</td>\n",
       "      <td>0.623467</td>\n",
       "      <td>0.608349</td>\n",
       "      <td>0.528105</td>\n",
       "      <td>0.818344</td>\n",
       "      <td>0.544756</td>\n",
       "      <td>0.802321</td>\n",
       "    </tr>\n",
       "    <tr>\n",
       "      <th>TOEFL Score</th>\n",
       "      <td>0.819885</td>\n",
       "      <td>1.000000</td>\n",
       "      <td>0.644189</td>\n",
       "      <td>0.642976</td>\n",
       "      <td>0.535500</td>\n",
       "      <td>0.805547</td>\n",
       "      <td>0.464858</td>\n",
       "      <td>0.786543</td>\n",
       "    </tr>\n",
       "    <tr>\n",
       "      <th>University Rating</th>\n",
       "      <td>0.623467</td>\n",
       "      <td>0.644189</td>\n",
       "      <td>1.000000</td>\n",
       "      <td>0.713657</td>\n",
       "      <td>0.606949</td>\n",
       "      <td>0.697704</td>\n",
       "      <td>0.424966</td>\n",
       "      <td>0.681482</td>\n",
       "    </tr>\n",
       "    <tr>\n",
       "      <th>SOP</th>\n",
       "      <td>0.608349</td>\n",
       "      <td>0.642976</td>\n",
       "      <td>0.713657</td>\n",
       "      <td>1.000000</td>\n",
       "      <td>0.663707</td>\n",
       "      <td>0.712154</td>\n",
       "      <td>0.408116</td>\n",
       "      <td>0.684137</td>\n",
       "    </tr>\n",
       "    <tr>\n",
       "      <th>LOR</th>\n",
       "      <td>0.528105</td>\n",
       "      <td>0.535500</td>\n",
       "      <td>0.606949</td>\n",
       "      <td>0.663707</td>\n",
       "      <td>1.000000</td>\n",
       "      <td>0.637469</td>\n",
       "      <td>0.372526</td>\n",
       "      <td>0.645365</td>\n",
       "    </tr>\n",
       "    <tr>\n",
       "      <th>CGPA</th>\n",
       "      <td>0.818344</td>\n",
       "      <td>0.805547</td>\n",
       "      <td>0.697704</td>\n",
       "      <td>0.712154</td>\n",
       "      <td>0.637469</td>\n",
       "      <td>1.000000</td>\n",
       "      <td>0.501311</td>\n",
       "      <td>0.882413</td>\n",
       "    </tr>\n",
       "    <tr>\n",
       "      <th>Research</th>\n",
       "      <td>0.544756</td>\n",
       "      <td>0.464858</td>\n",
       "      <td>0.424966</td>\n",
       "      <td>0.408116</td>\n",
       "      <td>0.372526</td>\n",
       "      <td>0.501311</td>\n",
       "      <td>1.000000</td>\n",
       "      <td>0.545871</td>\n",
       "    </tr>\n",
       "    <tr>\n",
       "      <th>Chance of Admit</th>\n",
       "      <td>0.802321</td>\n",
       "      <td>0.786543</td>\n",
       "      <td>0.681482</td>\n",
       "      <td>0.684137</td>\n",
       "      <td>0.645365</td>\n",
       "      <td>0.882413</td>\n",
       "      <td>0.545871</td>\n",
       "      <td>1.000000</td>\n",
       "    </tr>\n",
       "  </tbody>\n",
       "</table>\n",
       "</div>"
      ],
      "text/plain": [
       "                   GRE Score  TOEFL Score  University Rating       SOP  \\\n",
       "GRE Score           1.000000     0.819885           0.623467  0.608349   \n",
       "TOEFL Score         0.819885     1.000000           0.644189  0.642976   \n",
       "University Rating   0.623467     0.644189           1.000000  0.713657   \n",
       "SOP                 0.608349     0.642976           0.713657  1.000000   \n",
       "LOR                 0.528105     0.535500           0.606949  0.663707   \n",
       "CGPA                0.818344     0.805547           0.697704  0.712154   \n",
       "Research            0.544756     0.464858           0.424966  0.408116   \n",
       "Chance of Admit     0.802321     0.786543           0.681482  0.684137   \n",
       "\n",
       "                        LOR      CGPA  Research  Chance of Admit  \n",
       "GRE Score          0.528105  0.818344  0.544756         0.802321  \n",
       "TOEFL Score        0.535500  0.805547  0.464858         0.786543  \n",
       "University Rating  0.606949  0.697704  0.424966         0.681482  \n",
       "SOP                0.663707  0.712154  0.408116         0.684137  \n",
       "LOR                1.000000  0.637469  0.372526         0.645365  \n",
       "CGPA               0.637469  1.000000  0.501311         0.882413  \n",
       "Research           0.372526  0.501311  1.000000         0.545871  \n",
       "Chance of Admit    0.645365  0.882413  0.545871         1.000000  "
      ]
     },
     "execution_count": 9,
     "metadata": {},
     "output_type": "execute_result"
    }
   ],
   "source": [
    "df.corr()"
   ]
  },
  {
   "cell_type": "code",
   "execution_count": 10,
   "id": "3c0046ca",
   "metadata": {},
   "outputs": [
    {
     "data": {
      "text/plain": [
       "Research             0.545871\n",
       "LOR                  0.645365\n",
       "University Rating    0.681482\n",
       "SOP                  0.684137\n",
       "TOEFL Score          0.786543\n",
       "GRE Score            0.802321\n",
       "CGPA                 0.882413\n",
       "Chance of Admit      1.000000\n",
       "Name: Chance of Admit, dtype: float64"
      ]
     },
     "execution_count": 10,
     "metadata": {},
     "output_type": "execute_result"
    }
   ],
   "source": [
    "df.corr()[\"Chance of Admit\"].sort_values()"
   ]
  },
  {
   "cell_type": "markdown",
   "id": "582eb118",
   "metadata": {},
   "source": [
    "## Normal distribution of columns"
   ]
  },
  {
   "cell_type": "code",
   "execution_count": 11,
   "id": "74d73f1b",
   "metadata": {},
   "outputs": [],
   "source": [
    "import scipy.stats as st"
   ]
  },
  {
   "cell_type": "code",
   "execution_count": 12,
   "id": "f7d1f80c",
   "metadata": {},
   "outputs": [],
   "source": [
    "import pylab"
   ]
  },
  {
   "cell_type": "code",
   "execution_count": 13,
   "id": "aa0074eb",
   "metadata": {},
   "outputs": [
    {
     "data": {
      "image/png": "[encoded data removed]",
      "text/plain": [
       "<Figure size 1008x1008 with 8 Axes>"
      ]
     },
     "metadata": {
      "needs_background": "light"
     },
     "output_type": "display_data"
    }
   ],
   "source": [
    "plt.figure(figsize=(14,14))\n",
    "plot_num=1\n",
    "for i in df.columns:\n",
    "    if plot_num<9:\n",
    "        plt.subplot(4,4,plot_num)\n",
    "        st.probplot(df[i],dist=\"norm\",plot=pylab);\n",
    "        plt.ylabel(i)\n",
    "        plot_num+=1"
   ]
  },
  {
   "cell_type": "code",
   "execution_count": 14,
   "id": "be47887c",
   "metadata": {},
   "outputs": [
    {
     "data": {
      "text/plain": [
       "GRE Score           -0.056060\n",
       "TOEFL Score          0.104963\n",
       "University Rating    0.102097\n",
       "SOP                 -0.228972\n",
       "LOR                 -0.145290\n",
       "CGPA                -0.026613\n",
       "Research            -0.242475\n",
       "Chance of Admit     -0.289966\n",
       "dtype: float64"
      ]
     },
     "execution_count": 14,
     "metadata": {},
     "output_type": "execute_result"
    }
   ],
   "source": [
    "df.skew()"
   ]
  },
  {
   "cell_type": "code",
   "execution_count": 15,
   "id": "18edcc71",
   "metadata": {},
   "outputs": [
    {
     "data": {
      "text/plain": [
       "GRE Score           -0.612418\n",
       "TOEFL Score         -0.616477\n",
       "University Rating   -0.766867\n",
       "SOP                 -0.705717\n",
       "LOR                 -0.745749\n",
       "CGPA                -0.561278\n",
       "Research            -1.949018\n",
       "Chance of Admit     -0.454682\n",
       "dtype: float64"
      ]
     },
     "execution_count": 15,
     "metadata": {},
     "output_type": "execute_result"
    }
   ],
   "source": [
    "df.kurt()"
   ]
  },
  {
   "cell_type": "code",
   "execution_count": 16,
   "id": "6d3bb940",
   "metadata": {},
   "outputs": [],
   "source": [
    "x=st.yeojohnson(df[\"Research\"])"
   ]
  },
  {
   "cell_type": "code",
   "execution_count": 17,
   "id": "82d30acd",
   "metadata": {},
   "outputs": [
    {
     "data": {
      "text/plain": [
       "-1.9490180796876393"
      ]
     },
     "execution_count": 17,
     "metadata": {},
     "output_type": "execute_result"
    }
   ],
   "source": [
    "pd.Series(x[0]).kurt()"
   ]
  },
  {
   "cell_type": "code",
   "execution_count": 18,
   "id": "28ebc36b",
   "metadata": {},
   "outputs": [
    {
     "data": {
      "image/png": "[encoded data removed]",
      "text/plain": [
       "<Figure size 432x288 with 1 Axes>"
      ]
     },
     "metadata": {
      "needs_background": "light"
     },
     "output_type": "display_data"
    }
   ],
   "source": [
    "st.probplot(x[0],dist=\"norm\",plot=pylab);"
   ]
  },
  {
   "cell_type": "code",
   "execution_count": 19,
   "id": "ae05b357",
   "metadata": {},
   "outputs": [],
   "source": [
    "a=df[\"Research\"].apply(lambda x:np.exp(x))"
   ]
  },
  {
   "cell_type": "code",
   "execution_count": 20,
   "id": "458e46b7",
   "metadata": {},
   "outputs": [
    {
     "data": {
      "text/plain": [
       "-0.24247492100796814"
      ]
     },
     "execution_count": 20,
     "metadata": {},
     "output_type": "execute_result"
    }
   ],
   "source": [
    "a.skew()"
   ]
  },
  {
   "cell_type": "code",
   "execution_count": 21,
   "id": "51701f40",
   "metadata": {},
   "outputs": [
    {
     "data": {
      "text/plain": [
       "-1.9490180796876397"
      ]
     },
     "execution_count": 21,
     "metadata": {},
     "output_type": "execute_result"
    }
   ],
   "source": [
    "a.kurt()"
   ]
  },
  {
   "cell_type": "code",
   "execution_count": 22,
   "id": "741f59dd",
   "metadata": {},
   "outputs": [],
   "source": [
    "from sklearn.preprocessing import MinMaxScaler"
   ]
  },
  {
   "cell_type": "code",
   "execution_count": 23,
   "id": "738da599",
   "metadata": {},
   "outputs": [],
   "source": [
    "x=df.drop(columns=[\"Chance of Admit\"])\n",
    "y=df[[\"Chance of Admit\"]]"
   ]
  },
  {
   "cell_type": "code",
   "execution_count": 24,
   "id": "856a2021",
   "metadata": {},
   "outputs": [],
   "source": [
    "scaler=MinMaxScaler()\n",
    "x_scaled=scaler.fit_transform(x)"
   ]
  },
  {
   "cell_type": "code",
   "execution_count": 25,
   "id": "3821d141",
   "metadata": {},
   "outputs": [],
   "source": [
    "from sklearn.model_selection import train_test_split"
   ]
  },
  {
   "cell_type": "code",
   "execution_count": 26,
   "id": "e1c3f379",
   "metadata": {},
   "outputs": [],
   "source": [
    "x_train,x_test,y_train,y_test=train_test_split(x_scaled,y,test_size=0.10,random_state=123)"
   ]
  },
  {
   "cell_type": "code",
   "execution_count": 27,
   "id": "93269102",
   "metadata": {},
   "outputs": [
    {
     "data": {
      "text/plain": [
       "(450, 7)"
      ]
     },
     "execution_count": 27,
     "metadata": {},
     "output_type": "execute_result"
    }
   ],
   "source": [
    "x_train.shape"
   ]
  },
  {
   "cell_type": "code",
   "execution_count": 28,
   "id": "2708e315",
   "metadata": {},
   "outputs": [
    {
     "data": {
      "text/plain": [
       "(50, 7)"
      ]
     },
     "execution_count": 28,
     "metadata": {},
     "output_type": "execute_result"
    }
   ],
   "source": [
    "x_test.shape"
   ]
  },
  {
   "cell_type": "code",
   "execution_count": 29,
   "id": "27824ee2",
   "metadata": {},
   "outputs": [
    {
     "data": {
      "text/plain": [
       "(450, 1)"
      ]
     },
     "execution_count": 29,
     "metadata": {},
     "output_type": "execute_result"
    }
   ],
   "source": [
    "y_train.shape"
   ]
  },
  {
   "cell_type": "code",
   "execution_count": 30,
   "id": "2afec2d9",
   "metadata": {},
   "outputs": [
    {
     "data": {
      "text/plain": [
       "(50, 1)"
      ]
     },
     "execution_count": 30,
     "metadata": {},
     "output_type": "execute_result"
    }
   ],
   "source": [
    "y_test.shape"
   ]
  },
  {
   "cell_type": "code",
   "execution_count": 31,
   "id": "7a9b8679",
   "metadata": {},
   "outputs": [],
   "source": [
    "from sklearn.linear_model import LinearRegression"
   ]
  },
  {
   "cell_type": "code",
   "execution_count": 32,
   "id": "008b07c9",
   "metadata": {},
   "outputs": [],
   "source": [
    "lr=LinearRegression()"
   ]
  },
  {
   "cell_type": "code",
   "execution_count": 33,
   "id": "fc7f0ff6",
   "metadata": {},
   "outputs": [
    {
     "data": {
      "text/plain": [
       "LinearRegression()"
      ]
     },
     "execution_count": 33,
     "metadata": {},
     "output_type": "execute_result"
    }
   ],
   "source": [
    "lr.fit(x_train,y_train)"
   ]
  },
  {
   "cell_type": "code",
   "execution_count": 34,
   "id": "eec05354",
   "metadata": {},
   "outputs": [],
   "source": [
    "y_pred=lr.predict(x_test)"
   ]
  },
  {
   "cell_type": "code",
   "execution_count": 35,
   "id": "e782418e",
   "metadata": {},
   "outputs": [
    {
     "data": {
      "text/plain": [
       "array([[0.80458018],\n",
       "       [0.93568835],\n",
       "       [0.53058508],\n",
       "       [0.62450253],\n",
       "       [0.81775499]])"
      ]
     },
     "execution_count": 35,
     "metadata": {},
     "output_type": "execute_result"
    }
   ],
   "source": [
    "y_pred[0:5]"
   ]
  },
  {
   "cell_type": "code",
   "execution_count": 36,
   "id": "7a3ffc92",
   "metadata": {},
   "outputs": [
    {
     "data": {
      "text/html": [
       "<div>\n",
       "<style scoped>\n",
       "    .dataframe tbody tr th:only-of-type {\n",
       "        vertical-align: middle;\n",
       "    }\n",
       "\n",
       "    .dataframe tbody tr th {\n",
       "        vertical-align: top;\n",
       "    }\n",
       "\n",
       "    .dataframe thead th {\n",
       "        text-align: right;\n",
       "    }\n",
       "</style>\n",
       "<table border=\"1\" class=\"dataframe\">\n",
       "  <thead>\n",
       "    <tr style=\"text-align: right;\">\n",
       "      <th></th>\n",
       "      <th>Chance of Admit</th>\n",
       "    </tr>\n",
       "  </thead>\n",
       "  <tbody>\n",
       "    <tr>\n",
       "      <th>229</th>\n",
       "      <td>0.82</td>\n",
       "    </tr>\n",
       "    <tr>\n",
       "      <th>337</th>\n",
       "      <td>0.94</td>\n",
       "    </tr>\n",
       "    <tr>\n",
       "      <th>327</th>\n",
       "      <td>0.69</td>\n",
       "    </tr>\n",
       "    <tr>\n",
       "      <th>416</th>\n",
       "      <td>0.65</td>\n",
       "    </tr>\n",
       "    <tr>\n",
       "      <th>306</th>\n",
       "      <td>0.79</td>\n",
       "    </tr>\n",
       "  </tbody>\n",
       "</table>\n",
       "</div>"
      ],
      "text/plain": [
       "     Chance of Admit\n",
       "229             0.82\n",
       "337             0.94\n",
       "327             0.69\n",
       "416             0.65\n",
       "306             0.79"
      ]
     },
     "execution_count": 36,
     "metadata": {},
     "output_type": "execute_result"
    }
   ],
   "source": [
    "y_test.head()"
   ]
  },
  {
   "cell_type": "code",
   "execution_count": 37,
   "id": "3ca27115",
   "metadata": {},
   "outputs": [],
   "source": [
    "from sklearn.metrics import mean_absolute_error,mean_absolute_percentage_error,mean_squared_error,r2_score"
   ]
  },
  {
   "cell_type": "code",
   "execution_count": 38,
   "id": "8ea94a23",
   "metadata": {},
   "outputs": [
    {
     "data": {
      "text/plain": [
       "0.7731323352280923"
      ]
     },
     "execution_count": 38,
     "metadata": {},
     "output_type": "execute_result"
    }
   ],
   "source": [
    "r2_score(y_test,y_pred)"
   ]
  },
  {
   "cell_type": "code",
   "execution_count": 39,
   "id": "58d3d081",
   "metadata": {},
   "outputs": [],
   "source": [
    "mse=mean_squared_error(y_test,y_pred)"
   ]
  },
  {
   "cell_type": "code",
   "execution_count": 40,
   "id": "3ddad8e7",
   "metadata": {},
   "outputs": [
    {
     "data": {
      "text/plain": [
       "0.00517139397023609"
      ]
     },
     "execution_count": 40,
     "metadata": {},
     "output_type": "execute_result"
    }
   ],
   "source": [
    "mse"
   ]
  },
  {
   "cell_type": "code",
   "execution_count": 41,
   "id": "40c78a1e",
   "metadata": {},
   "outputs": [
    {
     "data": {
      "text/plain": [
       "0.0719124048425311"
      ]
     },
     "execution_count": 41,
     "metadata": {},
     "output_type": "execute_result"
    }
   ],
   "source": [
    "rmse=np.sqrt(mse)\n",
    "rmse"
   ]
  },
  {
   "cell_type": "code",
   "execution_count": 42,
   "id": "b131f325",
   "metadata": {},
   "outputs": [
    {
     "data": {
      "text/plain": [
       "0.04776271248318863"
      ]
     },
     "execution_count": 42,
     "metadata": {},
     "output_type": "execute_result"
    }
   ],
   "source": [
    "mae = mean_absolute_error(y_test,y_pred)\n",
    "mae"
   ]
  },
  {
   "cell_type": "code",
   "execution_count": 43,
   "id": "c897d2ae",
   "metadata": {},
   "outputs": [
    {
     "data": {
      "text/plain": [
       "0.08132269226042838"
      ]
     },
     "execution_count": 43,
     "metadata": {},
     "output_type": "execute_result"
    }
   ],
   "source": [
    "mape = mean_absolute_percentage_error(y_test,y_pred)\n",
    "mape"
   ]
  },
  {
   "cell_type": "code",
   "execution_count": 44,
   "id": "50a6bf4a",
   "metadata": {},
   "outputs": [
    {
     "name": "stderr",
     "output_type": "stream",
     "text": [
      "C:\\Users\\dell\\anaconda3\\lib\\site-packages\\seaborn\\_decorators.py:36: FutureWarning: Pass the following variables as keyword args: x, y. From version 0.12, the only valid positional argument will be `data`, and passing other arguments without an explicit keyword will result in an error or misinterpretation.\n",
      "  warnings.warn(\n"
     ]
    },
    {
     "data": {
      "image/png": "[encoded data removed]",
      "text/plain": [
       "<Figure size 432x288 with 1 Axes>"
      ]
     },
     "metadata": {
      "needs_background": "light"
     },
     "output_type": "display_data"
    }
   ],
   "source": [
    "plt.scatter(x_test[:,0],y_test)\n",
    "sns.regplot(x_test[:,0],y_pred,color=\"red\",ci = False)\n",
    "plt.show();"
   ]
  },
  {
   "cell_type": "code",
   "execution_count": 45,
   "id": "46d8b5e2",
   "metadata": {},
   "outputs": [],
   "source": [
    "from sklearn.linear_model import Lasso,Ridge,ElasticNet,LassoCV,RidgeCV,ElasticNetCV"
   ]
  },
  {
   "cell_type": "code",
   "execution_count": 46,
   "id": "431bced8",
   "metadata": {},
   "outputs": [],
   "source": [
    "lasso=Lasso()"
   ]
  },
  {
   "cell_type": "code",
   "execution_count": 47,
   "id": "7238634e",
   "metadata": {},
   "outputs": [
    {
     "data": {
      "text/plain": [
       "Lasso()"
      ]
     },
     "execution_count": 47,
     "metadata": {},
     "output_type": "execute_result"
    }
   ],
   "source": [
    "lasso.fit(x_train,y_train)"
   ]
  },
  {
   "cell_type": "code",
   "execution_count": 48,
   "id": "0458d7c1",
   "metadata": {},
   "outputs": [],
   "source": [
    "y_pred_lasso=lasso.predict(x_test)"
   ]
  },
  {
   "cell_type": "code",
   "execution_count": 49,
   "id": "27b58531",
   "metadata": {},
   "outputs": [
    {
     "data": {
      "text/plain": [
       "-0.021794244286899245"
      ]
     },
     "execution_count": 49,
     "metadata": {},
     "output_type": "execute_result"
    }
   ],
   "source": [
    "r2_score(y_test,y_pred_lasso)"
   ]
  },
  {
   "cell_type": "code",
   "execution_count": 50,
   "id": "53af3ba0",
   "metadata": {},
   "outputs": [],
   "source": [
    "ridge=Ridge()"
   ]
  },
  {
   "cell_type": "code",
   "execution_count": 51,
   "id": "f74b9a7c",
   "metadata": {},
   "outputs": [
    {
     "data": {
      "text/plain": [
       "Ridge()"
      ]
     },
     "execution_count": 51,
     "metadata": {},
     "output_type": "execute_result"
    }
   ],
   "source": [
    "ridge.fit(x_train,y_train)"
   ]
  },
  {
   "cell_type": "code",
   "execution_count": 52,
   "id": "d1d585c7",
   "metadata": {},
   "outputs": [],
   "source": [
    "y_pred_ridge=ridge.predict(x_test)"
   ]
  },
  {
   "cell_type": "code",
   "execution_count": 53,
   "id": "f272f147",
   "metadata": {},
   "outputs": [
    {
     "data": {
      "text/plain": [
       "0.7732667321465809"
      ]
     },
     "execution_count": 53,
     "metadata": {},
     "output_type": "execute_result"
    }
   ],
   "source": [
    "r2_score(y_test,y_pred_ridge)"
   ]
  },
  {
   "cell_type": "code",
   "execution_count": 54,
   "id": "0dbece9f",
   "metadata": {},
   "outputs": [],
   "source": [
    "eln=ElasticNet()"
   ]
  },
  {
   "cell_type": "code",
   "execution_count": 55,
   "id": "37ce9b12",
   "metadata": {},
   "outputs": [
    {
     "data": {
      "text/plain": [
       "ElasticNet()"
      ]
     },
     "execution_count": 55,
     "metadata": {},
     "output_type": "execute_result"
    }
   ],
   "source": [
    "eln.fit(x_train,y_train)"
   ]
  },
  {
   "cell_type": "code",
   "execution_count": 56,
   "id": "2a4cd244",
   "metadata": {},
   "outputs": [],
   "source": [
    "y_pred_eln=eln.predict(x_test)"
   ]
  },
  {
   "cell_type": "code",
   "execution_count": 57,
   "id": "58515d26",
   "metadata": {},
   "outputs": [
    {
     "data": {
      "text/plain": [
       "-0.021794244286899245"
      ]
     },
     "execution_count": 57,
     "metadata": {},
     "output_type": "execute_result"
    }
   ],
   "source": [
    "r2_score(y_test,y_pred_eln)"
   ]
  },
  {
   "cell_type": "code",
   "execution_count": 58,
   "id": "6474ce99",
   "metadata": {},
   "outputs": [],
   "source": [
    "l1=LassoCV(cv=3)"
   ]
  },
  {
   "cell_type": "code",
   "execution_count": 59,
   "id": "e0da4dc9",
   "metadata": {},
   "outputs": [
    {
     "name": "stderr",
     "output_type": "stream",
     "text": [
      "C:\\Users\\dell\\anaconda3\\lib\\site-packages\\sklearn\\utils\\validation.py:63: DataConversionWarning: A column-vector y was passed when a 1d array was expected. Please change the shape of y to (n_samples, ), for example using ravel().\n",
      "  return f(*args, **kwargs)\n"
     ]
    },
    {
     "data": {
      "text/plain": [
       "LassoCV(cv=3)"
      ]
     },
     "execution_count": 59,
     "metadata": {},
     "output_type": "execute_result"
    }
   ],
   "source": [
    "l1.fit(x_train,y_train)"
   ]
  },
  {
   "cell_type": "code",
   "execution_count": 60,
   "id": "9ffcfcd2",
   "metadata": {},
   "outputs": [],
   "source": [
    "y_pred_l1=l1.predict(x_test)"
   ]
  },
  {
   "cell_type": "code",
   "execution_count": 64,
   "id": "346cd6ca",
   "metadata": {},
   "outputs": [
    {
     "data": {
      "text/plain": [
       "0.7731702970563441"
      ]
     },
     "execution_count": 64,
     "metadata": {},
     "output_type": "execute_result"
    }
   ],
   "source": [
    "r2_score(y_test,y_pred_l1)"
   ]
  },
  {
   "cell_type": "code",
   "execution_count": 61,
   "id": "771b3cc6",
   "metadata": {},
   "outputs": [
    {
     "data": {
      "text/plain": [
       "0.7731323352280923"
      ]
     },
     "execution_count": 61,
     "metadata": {},
     "output_type": "execute_result"
    }
   ],
   "source": [
    "lr.score(x_test,y_test))"
   ]
  },
  {
   "cell_type": "code",
   "execution_count": 62,
   "id": "17f3bc81",
   "metadata": {},
   "outputs": [
    {
     "data": {
      "text/plain": [
       "0.8259686170451069"
      ]
     },
     "execution_count": 62,
     "metadata": {},
     "output_type": "execute_result"
    }
   ],
   "source": [
    "lr.score(x_train,y_train)"
   ]
  },
  {
   "cell_type": "code",
   "execution_count": null,
   "id": "593b617e",
   "metadata": {},
   "outputs": [],
   "source": []
  }
 ],
 "metadata": {
  "kernelspec": {
   "display_name": "Python 3 (ipykernel)",
   "language": "python",
   "name": "python3"
  },
  "language_info": {
   "codemirror_mode": {
    "name": "ipython",
    "version": 3
   },
   "file_extension": ".py",
   "mimetype": "text/x-python",
   "name": "python",
   "nbconvert_exporter": "python",
   "pygments_lexer": "ipython3",
   "version": "3.9.7"
  }
 },
 "nbformat": 4,
 "nbformat_minor": 5
}
